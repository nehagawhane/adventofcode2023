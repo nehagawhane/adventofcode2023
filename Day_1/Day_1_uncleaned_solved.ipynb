{
 "cells": [
  {
   "cell_type": "code",
   "execution_count": 25,
   "id": "ecd0a708",
   "metadata": {},
   "outputs": [],
   "source": [
    "input_file = open('day1_input.txt','r')"
   ]
  },
  {
   "cell_type": "code",
   "execution_count": 46,
   "id": "91bdfc25",
   "metadata": {},
   "outputs": [],
   "source": [
    "input_file = open('day1_input.txt','r')\n",
    "string_arr = []\n",
    "for i in input_file.readlines():\n",
    "    string_arr.append(i)\n",
    "# string_arr"
   ]
  },
  {
   "cell_type": "code",
   "execution_count": 27,
   "id": "e20dcc75",
   "metadata": {},
   "outputs": [],
   "source": [
    "def find_digits(s):\n",
    "    start = 0\n",
    "    end = len(s)-1\n",
    "    for i in range(len(s)):\n",
    "        if (s[start].isdigit() and s[end].isdigit()):\n",
    "            num1 = s[start]\n",
    "            num2 = s[end]\n",
    "            int(num1+num2)\n",
    "        elif (s[start].isdigit()):\n",
    "            num1 = s[start]\n",
    "            end-=1\n",
    "        elif (s[end].isdigit()):\n",
    "            num1 = s[end]\n",
    "            start+=1\n",
    "        else:\n",
    "            start+=1\n",
    "            end-=1\n",
    "    return int(num1+num2)"
   ]
  },
  {
   "cell_type": "code",
   "execution_count": 28,
   "id": "cfd3d7c3",
   "metadata": {},
   "outputs": [],
   "source": [
    "def extract_digits(string_arr):\n",
    "    extract_digits_arr = []\n",
    "    for i in range(len(string_arr)):\n",
    "        digits = find_digits(string_arr[i])\n",
    "        extract_digits_arr.append(digits)\n",
    "    return extract_digits_arr"
   ]
  },
  {
   "cell_type": "code",
   "execution_count": 29,
   "id": "8ac4d6ff",
   "metadata": {},
   "outputs": [],
   "source": [
    "def sum_of_window(arr, window_size):\n",
    "    result = []\n",
    "    for i in range(0,len(arr)-window_size+1, window_size):\n",
    "        sum_window = sum(arr[i:i+window_size])\n",
    "        result.append(sum_window)\n",
    "    return sum(result[:])"
   ]
  },
  {
   "cell_type": "code",
   "execution_count": 30,
   "id": "6762ab88",
   "metadata": {},
   "outputs": [
    {
     "data": {
      "text/plain": [
       "['2qlljdqcbeight\\n',\n",
       " 'eight47srvbfive\\n',\n",
       " 'slconeightfoureight557m38\\n',\n",
       " 'xvqeightwosixnine61eightsn2tdczfhx\\n',\n",
       " 'msixonexch1twokjbdlhchqk1\\n']"
      ]
     },
     "execution_count": 30,
     "metadata": {},
     "output_type": "execute_result"
    }
   ],
   "source": [
    "string_arr[:5]"
   ]
  },
  {
   "cell_type": "code",
   "execution_count": 32,
   "id": "25bb8ba0",
   "metadata": {},
   "outputs": [
    {
     "data": {
      "text/plain": [
       "[22, 47, 58, 62, 11]"
      ]
     },
     "execution_count": 32,
     "metadata": {},
     "output_type": "execute_result"
    }
   ],
   "source": [
    "digits_arr = extract_digits(string_arr)\n",
    "digits_arr[:5]"
   ]
  },
  {
   "cell_type": "code",
   "execution_count": 33,
   "id": "bbe298af",
   "metadata": {},
   "outputs": [],
   "source": [
    "result = sum_of_window(digits_arr,4)"
   ]
  },
  {
   "cell_type": "code",
   "execution_count": 34,
   "id": "7117792c",
   "metadata": {},
   "outputs": [
    {
     "data": {
      "text/plain": [
       "54990"
      ]
     },
     "execution_count": 34,
     "metadata": {},
     "output_type": "execute_result"
    }
   ],
   "source": [
    "result"
   ]
  },
  {
   "cell_type": "code",
   "execution_count": 35,
   "id": "78e91b83",
   "metadata": {},
   "outputs": [],
   "source": [
    "#218902 - too high\n",
    "#164364 - too high\n",
    "#219227 - too high\n",
    "#54990- just right"
   ]
  },
  {
   "cell_type": "code",
   "execution_count": 36,
   "id": "e4eb23a9",
   "metadata": {},
   "outputs": [],
   "source": [
    "# test_arr = ['1abc2','pqr3stu8vwx','a1b2c3d4e5f','treb7uchet']\n",
    "# digits_arr = extract_digits(test_arr)\n",
    "# print(digits_arr)\n",
    "# result = sum_of_window(digits_arr,4)"
   ]
  },
  {
   "cell_type": "code",
   "execution_count": 37,
   "id": "4cefca7f",
   "metadata": {},
   "outputs": [],
   "source": [
    "# result"
   ]
  },
  {
   "cell_type": "code",
   "execution_count": 38,
   "id": "1ab3d331",
   "metadata": {},
   "outputs": [],
   "source": [
    "# 12+38+15+77 > 142"
   ]
  },
  {
   "cell_type": "code",
   "execution_count": null,
   "id": "f003e23e",
   "metadata": {},
   "outputs": [],
   "source": []
  },
  {
   "cell_type": "markdown",
   "id": "ae52d2dd",
   "metadata": {},
   "source": [
    "# Problem2"
   ]
  },
  {
   "cell_type": "code",
   "execution_count": 47,
   "id": "897e3773",
   "metadata": {},
   "outputs": [],
   "source": [
    "input_file = open('day1_input.txt','r')\n",
    "string_arr = []\n",
    "for i in input_file.readlines():\n",
    "    string_arr.append(i)\n",
    "# string_arr"
   ]
  },
  {
   "cell_type": "code",
   "execution_count": 49,
   "id": "1d651301",
   "metadata": {},
   "outputs": [],
   "source": [
    "# string_arr[:7]"
   ]
  },
  {
   "cell_type": "code",
   "execution_count": 3,
   "id": "89d74961",
   "metadata": {},
   "outputs": [],
   "source": [
    "# number_names = {2:'two', 4: 'four'}"
   ]
  },
  {
   "cell_type": "code",
   "execution_count": 4,
   "id": "c36c97a4",
   "metadata": {},
   "outputs": [],
   "source": [
    "# inp = '2hello3threefour'"
   ]
  },
  {
   "cell_type": "code",
   "execution_count": 5,
   "id": "234271ce",
   "metadata": {},
   "outputs": [],
   "source": [
    "# for i in range(len(number_names)):\n",
    "#     if list(number_names.values())[i] in inp:\n",
    "#         print('Y')\n",
    "#     else:\n",
    "#         print('N')"
   ]
  },
  {
   "cell_type": "code",
   "execution_count": null,
   "id": "6c73bb8b",
   "metadata": {},
   "outputs": [],
   "source": []
  },
  {
   "cell_type": "code",
   "execution_count": null,
   "id": "4e8248b4",
   "metadata": {},
   "outputs": [],
   "source": []
  },
  {
   "cell_type": "code",
   "execution_count": 6,
   "id": "c2e088d6",
   "metadata": {},
   "outputs": [],
   "source": [
    "def find_digits(s):\n",
    "    start = 0\n",
    "    end = len(s)-1\n",
    "    for i in range(len(s)):\n",
    "        if (s[start].isdigit() and s[end].isdigit()):\n",
    "            num1 = s[start]\n",
    "            num2 = s[end]\n",
    "            int(num1+num2)\n",
    "        elif (s[start].isdigit()):\n",
    "            num1 = s[start]\n",
    "            end-=1\n",
    "        elif (s[end].isdigit()):\n",
    "            num1 = s[end]\n",
    "            start+=1\n",
    "        else:\n",
    "            start+=1\n",
    "            end-=1\n",
    "    return int(num1+num2)"
   ]
  },
  {
   "cell_type": "code",
   "execution_count": 7,
   "id": "6cba1e02",
   "metadata": {},
   "outputs": [],
   "source": [
    "# find_digits('hel1lo3oneofoursi23x')"
   ]
  },
  {
   "cell_type": "code",
   "execution_count": 8,
   "id": "1584608b",
   "metadata": {},
   "outputs": [],
   "source": [
    "def name_to_digits(s):\n",
    "    if \"one\" in s:\n",
    "        s = s.replace('one','o1e')\n",
    "    if \"two\" in s:\n",
    "        s = s.replace('two','t2o')\n",
    "    if \"three\" in s:\n",
    "        s = s.replace('three','th3ree')\n",
    "    if \"four\" in s:\n",
    "        s = s.replace('four','fo4ur')\n",
    "    if \"five\" in s:\n",
    "        s = s.replace('five','fi5ve')\n",
    "    if \"six\" in s:\n",
    "        s = s.replace('six','si6x')\n",
    "    if \"seven\" in s:\n",
    "        s = s.replace('seven','se7ven')\n",
    "    if \"eight\" in s:\n",
    "        s = s.replace('eight','ei8ght')\n",
    "    if \"nine\" in s:\n",
    "        s = s.replace('nine','ni9ne')\n",
    "#     if \"zero\" in s:\n",
    "#         s = s.replace('zero','0ero')        \n",
    "    return s"
   ]
  },
  {
   "cell_type": "code",
   "execution_count": 9,
   "id": "fba3b83c",
   "metadata": {},
   "outputs": [],
   "source": [
    "# name_to_digits('helloneofoursi23x')"
   ]
  },
  {
   "cell_type": "code",
   "execution_count": 10,
   "id": "a86dd679",
   "metadata": {},
   "outputs": [],
   "source": [
    "# 29+83+13+24+42+14+76 > 281"
   ]
  },
  {
   "cell_type": "code",
   "execution_count": 11,
   "id": "976020c8",
   "metadata": {},
   "outputs": [],
   "source": [
    "# string_arr[0]"
   ]
  },
  {
   "cell_type": "code",
   "execution_count": 12,
   "id": "67bb1a7c",
   "metadata": {},
   "outputs": [],
   "source": [
    "digits_arr = []\n",
    "for i in range(len(string_arr)):\n",
    "    name_to_digits_s = name_to_digits(string_arr[i])\n",
    "    digits_extracted = find_digits(name_to_digits_s)\n",
    "    digits_arr.append(digits_extracted)"
   ]
  },
  {
   "cell_type": "code",
   "execution_count": 13,
   "id": "7e1de92a",
   "metadata": {},
   "outputs": [
    {
     "data": {
      "text/plain": [
       "1000"
      ]
     },
     "execution_count": 13,
     "metadata": {},
     "output_type": "execute_result"
    }
   ],
   "source": [
    "len(digits_arr)"
   ]
  },
  {
   "cell_type": "code",
   "execution_count": 14,
   "id": "3d95c691",
   "metadata": {},
   "outputs": [],
   "source": [
    "# digits_arr"
   ]
  },
  {
   "cell_type": "code",
   "execution_count": 21,
   "id": "067e5eac",
   "metadata": {},
   "outputs": [
    {
     "data": {
      "text/plain": [
       "54473"
      ]
     },
     "execution_count": 21,
     "metadata": {},
     "output_type": "execute_result"
    }
   ],
   "source": [
    "sum(i for i in digits_arr)"
   ]
  },
  {
   "cell_type": "code",
   "execution_count": 55,
   "id": "63c80f58",
   "metadata": {},
   "outputs": [],
   "source": [
    "def sum_of_window(arr, window_size):\n",
    "    result = []\n",
    "    for i in range(0,len(arr)-window_size+1, window_size):\n",
    "        sum_window = sum(arr[i:i+window_size])\n",
    "        result.append(sum_window)\n",
    "    print(len(result))\n",
    "    print(sum([i for i in result]))\n",
    "    return sum(result[:])"
   ]
  },
  {
   "cell_type": "code",
   "execution_count": 56,
   "id": "e4ab83c9",
   "metadata": {},
   "outputs": [],
   "source": [
    "# len(result)"
   ]
  },
  {
   "cell_type": "code",
   "execution_count": 57,
   "id": "ece286b3",
   "metadata": {},
   "outputs": [
    {
     "name": "stdout",
     "output_type": "stream",
     "text": [
      "10\n",
      "54473\n"
     ]
    },
    {
     "data": {
      "text/plain": [
       "54473"
      ]
     },
     "execution_count": 57,
     "metadata": {},
     "output_type": "execute_result"
    }
   ],
   "source": [
    "sum_of_window(digits_arr, 100)"
   ]
  },
  {
   "cell_type": "code",
   "execution_count": 58,
   "id": "7896be25",
   "metadata": {},
   "outputs": [],
   "source": [
    "# 53410 -too low\n",
    "# 53843 - too low\n",
    "# 374525 - too high\n",
    "# 54040- not right\n",
    "# 54473 - CORRECT"
   ]
  },
  {
   "cell_type": "code",
   "execution_count": 59,
   "id": "bcc034b6",
   "metadata": {},
   "outputs": [],
   "source": [
    "#### WINDOWS DID NOT MATTER???!!!!!!!!!!!!"
   ]
  },
  {
   "cell_type": "code",
   "execution_count": null,
   "id": "a80808c5",
   "metadata": {},
   "outputs": [],
   "source": []
  },
  {
   "cell_type": "code",
   "execution_count": null,
   "id": "97539306",
   "metadata": {},
   "outputs": [],
   "source": []
  },
  {
   "cell_type": "code",
   "execution_count": null,
   "id": "15aa52d3",
   "metadata": {},
   "outputs": [],
   "source": []
  },
  {
   "cell_type": "code",
   "execution_count": null,
   "id": "4e6b6f05",
   "metadata": {},
   "outputs": [],
   "source": []
  }
 ],
 "metadata": {
  "kernelspec": {
   "display_name": "Python 3",
   "language": "python",
   "name": "python3"
  },
  "language_info": {
   "codemirror_mode": {
    "name": "ipython",
    "version": 3
   },
   "file_extension": ".py",
   "mimetype": "text/x-python",
   "name": "python",
   "nbconvert_exporter": "python",
   "pygments_lexer": "ipython3",
   "version": "3.7.3"
  }
 },
 "nbformat": 4,
 "nbformat_minor": 5
}
